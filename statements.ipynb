{
  "nbformat": 4,
  "nbformat_minor": 0,
  "metadata": {
    "colab": {
      "provenance": [],
      "toc_visible": true,
      "authorship_tag": "ABX9TyNDiN3OXhOeKgEvfFDqposf",
      "include_colab_link": true
    },
    "kernelspec": {
      "name": "python3",
      "display_name": "Python 3"
    },
    "language_info": {
      "name": "python"
    }
  },
  "cells": [
    {
      "cell_type": "markdown",
      "metadata": {
        "id": "view-in-github",
        "colab_type": "text"
      },
      "source": [
        "<a href=\"https://colab.research.google.com/github/dipannita21/functions_from_zero/blob/main/statements.ipynb\" target=\"_parent\"><img src=\"https://colab.research.google.com/assets/colab-badge.svg\" alt=\"Open In Colab\"/></a>"
      ]
    },
    {
      "cell_type": "markdown",
      "source": [
        "## Learning statements\n"
      ],
      "metadata": {
        "id": "HlfppaxFNwH6"
      }
    },
    {
      "cell_type": "code",
      "execution_count": null,
      "metadata": {
        "colab": {
          "base_uri": "https://localhost:8080/"
        },
        "id": "VWR9lERLMx53",
        "outputId": "d7897061-5c6f-4a35-dfba-7f7737ef11a6"
      },
      "outputs": [
        {
          "output_type": "stream",
          "name": "stdout",
          "text": [
            "hello world\n"
          ]
        }
      ],
      "source": [
        "print(\"hello world\")"
      ]
    },
    {
      "cell_type": "markdown",
      "source": [
        "### Variables"
      ],
      "metadata": {
        "id": "OvuzuCVnQM7D"
      }
    },
    {
      "cell_type": "code",
      "source": [
        "variable = 1\n"
      ],
      "metadata": {
        "id": "DUeLDM98QU19"
      },
      "execution_count": 1,
      "outputs": []
    },
    {
      "cell_type": "markdown",
      "source": [
        "Data Structures"
      ],
      "metadata": {
        "id": "HJA78142Tury"
      }
    },
    {
      "cell_type": "code",
      "source": [
        "my_list = [1, 2, 3]"
      ],
      "metadata": {
        "id": "RjWplgn8T4wM"
      },
      "execution_count": 4,
      "outputs": []
    },
    {
      "cell_type": "code",
      "source": [
        "my_list[1]"
      ],
      "metadata": {
        "id": "m2qKCYq0USzH",
        "outputId": "c8d1d267-25b0-42f5-aa7c-b2b98622453e",
        "colab": {
          "base_uri": "https://localhost:8080/"
        }
      },
      "execution_count": 6,
      "outputs": [
        {
          "output_type": "execute_result",
          "data": {
            "text/plain": [
              "2"
            ]
          },
          "metadata": {},
          "execution_count": 6
        }
      ]
    },
    {
      "cell_type": "code",
      "source": [
        "type(my_list)"
      ],
      "metadata": {
        "id": "q6iV27gYUW9v",
        "outputId": "c1d0b656-c8f3-4ada-acbc-65ea58b96ff4",
        "colab": {
          "base_uri": "https://localhost:8080/"
        }
      },
      "execution_count": 7,
      "outputs": [
        {
          "output_type": "execute_result",
          "data": {
            "text/plain": [
              "list"
            ]
          },
          "metadata": {},
          "execution_count": 7
        }
      ]
    },
    {
      "cell_type": "markdown",
      "source": [
        "Dictionary"
      ],
      "metadata": {
        "id": "qPXotdLnaMjP"
      }
    },
    {
      "cell_type": "code",
      "source": [
        "my_dict = {\"one\":1, \"two\":2}\n",
        "type(my_dict)\n"
      ],
      "metadata": {
        "id": "fAiIajCjaR2S",
        "outputId": "35bbd623-d580-4e8e-9d51-aabd93e48c50",
        "colab": {
          "base_uri": "https://localhost:8080/"
        }
      },
      "execution_count": 11,
      "outputs": [
        {
          "output_type": "execute_result",
          "data": {
            "text/plain": [
              "dict"
            ]
          },
          "metadata": {},
          "execution_count": 11
        }
      ]
    },
    {
      "cell_type": "code",
      "source": [
        "my_dict.keys()\n"
      ],
      "metadata": {
        "id": "K5OHs2R5oRUm",
        "outputId": "a3df6cff-4b0b-4db7-d536-17e5df2a302f",
        "colab": {
          "base_uri": "https://localhost:8080/"
        }
      },
      "execution_count": 12,
      "outputs": [
        {
          "output_type": "execute_result",
          "data": {
            "text/plain": [
              "dict_keys(['one', 'two'])"
            ]
          },
          "metadata": {},
          "execution_count": 12
        }
      ]
    },
    {
      "cell_type": "code",
      "source": [
        "my_dict.values()"
      ],
      "metadata": {
        "id": "PP9ss0aooUAx",
        "outputId": "1b276617-881a-4817-8461-73426f03fe16",
        "colab": {
          "base_uri": "https://localhost:8080/"
        }
      },
      "execution_count": 13,
      "outputs": [
        {
          "output_type": "execute_result",
          "data": {
            "text/plain": [
              "dict_values([1, 2])"
            ]
          },
          "metadata": {},
          "execution_count": 13
        }
      ]
    },
    {
      "cell_type": "code",
      "source": [
        "my_dict.items()"
      ],
      "metadata": {
        "id": "Ph-x47Ooo0oH",
        "outputId": "0c0168f5-8138-4528-812a-7323c51ac51b",
        "colab": {
          "base_uri": "https://localhost:8080/"
        }
      },
      "execution_count": 18,
      "outputs": [
        {
          "output_type": "execute_result",
          "data": {
            "text/plain": [
              "dict_items([('one', 1), ('two', 2)])"
            ]
          },
          "metadata": {},
          "execution_count": 18
        }
      ]
    },
    {
      "cell_type": "markdown",
      "source": [
        "Loops"
      ],
      "metadata": {
        "id": "vSoAJT_6oaBi"
      }
    },
    {
      "cell_type": "code",
      "source": [
        "for key,value in my_dict.items():\n",
        "    print(f\"This is my key: {key}\" )\n",
        "    print(f\"This is my value: {value}\")\n"
      ],
      "metadata": {
        "id": "ADIja8kLoblS",
        "outputId": "bf5394d1-2eb6-4f82-9bd1-d552a86092a2",
        "colab": {
          "base_uri": "https://localhost:8080/"
        }
      },
      "execution_count": 22,
      "outputs": [
        {
          "output_type": "stream",
          "name": "stdout",
          "text": [
            "This is my key: one\n",
            "This is my value: 1\n",
            "This is my key: two\n",
            "This is my value: 2\n"
          ]
        }
      ]
    },
    {
      "cell_type": "code",
      "source": [
        "for items in my_list:\n",
        "    print(f\"This is the value in the list: {items}\")"
      ],
      "metadata": {
        "id": "hqWWLiJPpv29",
        "outputId": "a396497d-922f-4611-a65b-0d0b220878af",
        "colab": {
          "base_uri": "https://localhost:8080/"
        }
      },
      "execution_count": 23,
      "outputs": [
        {
          "output_type": "stream",
          "name": "stdout",
          "text": [
            "This is the value in the list: 1\n",
            "This is the value in the list: 2\n",
            "This is the value in the list: 3\n"
          ]
        }
      ]
    }
  ]
}